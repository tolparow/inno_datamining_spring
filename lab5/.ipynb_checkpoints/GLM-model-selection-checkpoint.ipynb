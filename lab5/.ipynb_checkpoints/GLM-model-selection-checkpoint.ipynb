{
 "cells": [
  {
   "cell_type": "markdown",
   "metadata": {},
   "source": [
    "##### PyMC3 Examples\n",
    "\n",
    "# GLM Model Selection\n",
    "\n",
    "\n",
    "**A fairly minimal reproducable example of Model Selection using DIC and WAIC.**\n",
    "\n",
    "+ This example creates two toy datasets under linear and quadratic models, and then tests the fit of a range of polynomial linear models upon those datasets by using the Deviance Information Criterion (DIC) and Watanabe - Akaike (or Widest Available) Information Criterion (WAIC).\n",
    "+ DIC (`stats.dic`) and WAIC (`stats.waic`) are new additions to PyMC3, so this example shows their usage in a more concrete fashion, also usage of the new `glm` submodule.\n",
    "+ The example was inspired by Jake Vanderplas' [recent blogpost](https://jakevdp.github.io/blog/2015/08/07/frequentism-and-bayesianism-5-model-selection/) on model selection, although in this first iteration, Bayes Factor comparison is not implemented.\n",
    "+ The datasets are tiny and generated within this Notebook. They contain errors in the measured value (y) only.\n",
    "\n",
    "\n",
    "For more information on Model Selection in PyMC3, and about DIC and WAIC, you could start with:\n",
    "\n",
    "+ Thomas Wiecki's [detailed response](https://stats.stackexchange.com/questions/161082/bayesian-model-selection-in-pymc3/166383#166383) to a question on Cross Validated\n",
    "+ The Deviance Information Criterion: 12 Years On [(Speigelhalter et al 2014)](http://onlinelibrary.wiley.com/doi/10.1111/rssb.12062/abstract)\n",
    "+ A Widely Applicable Bayesian Information Criterion [(Watanabe 2013)](http://www.jmlr.org/papers/volume14/watanabe13a/watanabe13a.pdf)\n",
    "+ Efficient Implementation of Leave-One-Out Cross-Validation and WAIC for Evaluating Fitted Bayesian Models [(Gelman et al 2015)](http://arxiv.org/abs/1507.04544)\n",
    "\n",
    "\n",
    "\n",
    "**Contents**\n",
    "\n",
    "+ [Setup](#Setup)  \n",
    "+ [Generate Toy Datasets](#Generate-Toy-Datasets)  \n",
    "+ [Demonstrate Simple Linear Model](#Demonstrate-Simple-Linear-Model)\n",
    "+ [Compare Higher-Order Linear Models](#Compare-Higher-Order-Linear-Models)\n",
    "+ [Deviance Information Criterion (DIC)](#Deviance-Information-Criterion-(DIC))\n",
    "+ [Watanabe-Akaike Information Criterion (WAIC)](#Watanabe-Akaike-Information-Criterion-(WAIC))\n",
    "\n",
    "\n",
    "\n",
    "**Note:**\n",
    "\n",
    "+ Python 3.4 project using latest available [PyMC3](https://github.com/pymc-devs/pymc3)\n",
    "+ Developed using [ContinuumIO Anaconda](https://www.continuum.io/downloads) distribution on a Macbook Pro 3GHz i7, 16GB RAM, OSX 10.10.5.  \n",
    "+ Finally, if runs become unstable or Theano throws weird errors, try clearing the cache `$> theano-cache clear` and rerunning the notebook.\n",
    "\n",
    "\n",
    "**Package Requirements (shown as a conda-env YAML):**\n",
    "\n",
    "```\n",
    "$> less conda_env_pymc3_examples.yml\n",
    "\n",
    "name: pymc3_examples\n",
    "    channels:\n",
    "      - defaults\n",
    "    dependencies:\n",
    "      - python=3.4\n",
    "      - ipython\n",
    "      - ipython-notebook\n",
    "      - ipython-qtconsole\n",
    "      - numpy\n",
    "      - scipy\n",
    "      - matplotlib\n",
    "      - pandas\n",
    "      - seaborn\n",
    "      - patsy  \n",
    "      - pip\n",
    "\n",
    "$> conda env create --file conda_env_pymc3_examples.yml\n",
    "\n",
    "$> source activate pymc3_examples\n",
    "\n",
    "$> pip install --process-dependency-links git+https://github.com/pymc-devs/pymc3\n",
    "\n",
    "```"
   ]
  },
  {
   "cell_type": "markdown",
   "metadata": {},
   "source": [
    "# Setup"
   ]
  },
  {
   "cell_type": "code",
   "execution_count": 1,
   "metadata": {},
   "outputs": [],
   "source": [
    "%matplotlib inline\n",
    "%qtconsole --colors=linux\n",
    "\n",
    "import warnings\n",
    "warnings.filterwarnings('ignore')"
   ]
  },
  {
   "cell_type": "code",
   "execution_count": 2,
   "metadata": {},
   "outputs": [
    {
     "name": "stderr",
     "output_type": "stream",
     "text": [
      "WARNING (theano.tensor.blas): Using NumPy C-API based implementation for BLAS functions.\n"
     ]
    }
   ],
   "source": [
    "from collections import OrderedDict\n",
    "from time import time\n",
    "\n",
    "import numpy as np\n",
    "import pandas as pd\n",
    "import matplotlib.pyplot as plt\n",
    "import seaborn as sns\n",
    "\n",
    "from scipy.optimize import fmin_powell\n",
    "from scipy import integrate\n",
    "\n",
    "import pymc3 as pm\n",
    "import theano as thno\n",
    "import theano.tensor as T \n",
    "\n",
    "from IPython.html.widgets import interactive, fixed\n",
    "\n",
    "# configure some basic options\n",
    "sns.set(style=\"darkgrid\", palette=\"muted\")\n",
    "pd.set_option('display.notebook_repr_html', True)\n",
    "plt.rcParams['figure.figsize'] = 12, 8\n",
    "rndst = np.random.RandomState(0)"
   ]
  },
  {
   "cell_type": "markdown",
   "metadata": {},
   "source": [
    "## Local Functions"
   ]
  },
  {
   "cell_type": "code",
   "execution_count": 3,
   "metadata": {},
   "outputs": [],
   "source": [
    "def generate_data(n=20, p=0, a=1, b=1, c=0, latent_sigma_y=20):\n",
    "    ''' \n",
    "    Create a toy dataset based on a very simple model that we might\n",
    "    imagine is a noisy physical process:\n",
    "        1. random x values within a range\n",
    "        2. latent error aka inherent noise in y\n",
    "        3. optionally create labelled outliers with larger noise\n",
    "\n",
    "    Model form: y ~ a + bx + cx^2 + e\n",
    "    \n",
    "    NOTE: latent_sigma_y is used to create a normally distributed,\n",
    "    'latent error' aka 'inherent noise' in the 'physical process' \n",
    "    generating thses values, rather than experimental measurement error. \n",
    "    Please don't use the returned `latent_error` values in inferential \n",
    "    models, it's returned in e dataframe for interest only.\n",
    "    '''\n",
    "    \n",
    "    df = pd.DataFrame({'x':rndst.choice(np.arange(100),n,replace=False)})\n",
    "                \n",
    "    ## create linear or quadratic model\n",
    "    df['y'] = a + b*(df['x']) + c*(df['x'])**2 \n",
    "\n",
    "    ## create latent noise and marked outliers\n",
    "    df['latent_error'] = rndst.normal(0,latent_sigma_y,n)\n",
    "    df['outlier_error'] = rndst.normal(0,latent_sigma_y*10,n)\n",
    "    df['outlier'] = rndst.binomial(1,p,n)\n",
    "    \n",
    "    ## add noise, with extreme noise for marked outliers\n",
    "    df['y'] += ((1-df['outlier']) * df['latent_error'])\n",
    "    df['y'] += (df['outlier'] * df['outlier_error'])\n",
    "   \n",
    "    ## round\n",
    "    for col in ['y','latent_error','outlier_error','x']:\n",
    "        df[col] = np.round(df[col],3)\n",
    "       \n",
    "    ## add label\n",
    "    df['source'] = 'linear' if c == 0 else 'quadratic'\n",
    "    \n",
    "    ## create simple linspace for plotting true model\n",
    "    plotx = np.linspace(df['x'].min() - np.ptp(df['x'])*.1\n",
    "                        ,df['x'].max() + np.ptp(df['x'])*.1, 100)\n",
    "    ploty = a + b*plotx + c*plotx**2\n",
    "    dfp = pd.DataFrame({'x':plotx, 'y':ploty})\n",
    "    \n",
    "    return df, dfp\n",
    "    \n",
    "\n",
    "def interact_dataset(n=20, p=0, a=-30, b=5, c=0, latent_sigma_y=20):\n",
    "    ''' \n",
    "    Convenience function:\n",
    "    Interactively generate dataset and plot\n",
    "    '''\n",
    "    \n",
    "    df, dfp = generate_data(n, p, a, b, c, latent_sigma_y)\n",
    "\n",
    "    g = sns.FacetGrid(df, size=8, hue='outlier', hue_order=[True,False]\n",
    "                    ,palette=sns.color_palette('Set1'), legend_out=False)\n",
    "\n",
    "    _ = g.map(plt.errorbar, 'x', 'y', 'latent_error', marker=\"o\"\n",
    "              ,ms=10, mec='w', mew=2, ls='', elinewidth=0.7).add_legend()\n",
    "\n",
    "    _ = plt.plot(dfp['x'], dfp['y'], '--', alpha=0.8)\n",
    "\n",
    "    plt.subplots_adjust(top=0.92)\n",
    "    _ = g.fig.suptitle('Sketch of Data Generation ({})'.format(df['source'][0])\n",
    "                       ,fontsize=16)\n",
    "        \n",
    "\n",
    "def plot_datasets(df_lin, df_quad, dfp_lin, dfp_quad):\n",
    "    '''\n",
    "    Convenience function:\n",
    "    Plot the two generated datasets in facets with generative model\n",
    "    '''\n",
    "    \n",
    "    df = pd.concat((df_lin, df_quad), axis=0)\n",
    "    dfp_lin, dfp_quad\n",
    "   \n",
    "    g = sns.FacetGrid(col='source', hue='source', data=df, size=6\n",
    "                      ,sharey=False, legend_out=False)\n",
    "\n",
    "    _ = g.map(plt.scatter, 'x', 'y', alpha=0.7, s=100, lw=2, edgecolor='w')\n",
    "\n",
    "    _ = g.axes[0][0].plot(dfp_lin['x'], dfp_lin['y'], '--', alpha=0.6)\n",
    "    _ = g.axes[0][1].plot(dfp_quad['x'], dfp_quad['y'], '--', alpha=0.6)\n",
    "                \n",
    "        \n",
    "def plot_traces(traces, retain=1000):\n",
    "    ''' \n",
    "    Convenience function:\n",
    "    Plot traces with overlaid means and values\n",
    "    '''\n",
    "    \n",
    "    ax = pm.traceplot(traces[-retain:], figsize=(12,len(traces.varnames)*1.5),\n",
    "        lines={k: v['mean'] for k, v in pm.df_summary(traces[-retain:]).iterrows()})\n",
    "\n",
    "    for i, mn in enumerate(pm.df_summary(traces[-retain:])['mean']):\n",
    "        ax[i,0].annotate('{:.2f}'.format(mn), xy=(mn,0), xycoords='data'\n",
    "                    ,xytext=(5,10), textcoords='offset points', rotation=90\n",
    "                    ,va='bottom', fontsize='large', color='#AA0022')\n",
    "    \n",
    "    \n",
    "def create_poly_modelspec(k=1):\n",
    "    ''' \n",
    "    Convenience function:\n",
    "    Create a polynomial modelspec string for patsy\n",
    "    '''\n",
    "    return ('y ~ 1 + x ' + ' '.join(['+ np.power(x,{})'.format(j) \n",
    "                                     for j in range(2,k+1)])).strip()\n",
    "\n",
    "\n",
    "def run_models(df, upper_order=5):\n",
    "    ''' \n",
    "    Convenience function:\n",
    "    Fit a range of pymc3 models of increasing polynomial complexity. \n",
    "    Suggest limit to max order 5 since calculation time is exponential.\n",
    "    '''\n",
    "    \n",
    "    models, traces = OrderedDict(), OrderedDict()\n",
    "\n",
    "    for k in range(1,upper_order+1):\n",
    "\n",
    "        nm = 'k{}'.format(k)\n",
    "        fml = create_poly_modelspec(k)\n",
    "\n",
    "        with pm.Model() as models[nm]:\n",
    "\n",
    "            print('\\nRunning: {}'.format(nm))\n",
    "            pm.glm.glm(fml, df, family=pm.glm.families.Normal())\n",
    "\n",
    "            start_MAP = pm.find_MAP(fmin=fmin_powell, disp=False)\n",
    "            traces[nm] = pm.sample(2000, start=start_MAP, step=pm.NUTS(), progressbar=True) \n",
    "            \n",
    "    return models, traces\n",
    "\n",
    "\n",
    "def plot_posterior_cr(models, traces, rawdata, xlims,\n",
    "                      datamodelnm='linear', modelnm='k1'):\n",
    "    '''\n",
    "    Convenience function:\n",
    "    Plot posterior predictions with credible regions shown as filled areas.\n",
    "    '''\n",
    "    \n",
    "    ## Get traces and calc posterior prediction for npoints in x\n",
    "    npoints = 100\n",
    "    mdl = models[modelnm]\n",
    "    trc = pm.trace_to_dataframe(traces[modelnm][-1000:])\n",
    "    trc = trc[[str(v) for v in mdl.cont_vars[:-1]]]\n",
    "\n",
    "    ordr = int(modelnm[-1:])\n",
    "    x = np.linspace(xlims[0], xlims[1], npoints).reshape((npoints,1))\n",
    "    pwrs = np.ones((npoints,ordr+1)) * np.arange(ordr+1)\n",
    "    X = x ** pwrs\n",
    "    cr = np.dot(X,trc.T)\n",
    "\n",
    "    ## Calculate credible regions and plot over the datapoints\n",
    "    dfp = pd.DataFrame(np.percentile(cr,[2.5, 25, 50, 75, 97.5], axis=1).T\n",
    "                         ,columns=['025','250','500','750','975'])\n",
    "    dfp['x'] = x\n",
    "\n",
    "    pal = sns.color_palette('Greens')\n",
    "    f, ax1d = plt.subplots(1,1, figsize=(7,7))\n",
    "    f.suptitle('Posterior Predictive Fit -- Data: {} -- Model: {}'.format(\n",
    "                        datamodelnm, modelnm), fontsize=16)\n",
    "    plt.subplots_adjust(top=0.95)\n",
    "\n",
    "    ax1d.fill_between(dfp['x'], dfp['025'], dfp['975'], alpha=0.5\n",
    "                      ,color=pal[1], label='CR 95%')\n",
    "    ax1d.fill_between(dfp['x'], dfp['250'], dfp['750'], alpha=0.5\n",
    "                      ,color=pal[4], label='CR 50%')\n",
    "    ax1d.plot(dfp['x'], dfp['500'], alpha=0.6, color=pal[5], label='Median')\n",
    "    _ = plt.legend()\n",
    "    _ = ax1d.set_xlim(xlims)\n",
    "    _ = sns.regplot(x='x', y='y', data=rawdata, fit_reg=False\n",
    "                   ,scatter_kws={'alpha':0.7,'s':100, 'lw':2,'edgecolor':'w'}, ax=ax1d)\n"
   ]
  },
  {
   "cell_type": "markdown",
   "metadata": {},
   "source": [
    "---\n",
    "\n",
    "---"
   ]
  },
  {
   "cell_type": "markdown",
   "metadata": {},
   "source": [
    "# Generate Toy Datasets"
   ]
  },
  {
   "cell_type": "markdown",
   "metadata": {},
   "source": [
    "## Interactively Draft Data"
   ]
  },
  {
   "cell_type": "markdown",
   "metadata": {},
   "source": [
    "Throughout the rest of the Notebook, we'll use two toy datasets created by a linear and a quadratic model respectively, so that we can better evaluate the fit of the model selection.\n",
    "\n",
    "Right now, lets use an interactive session to play around with the data generation function in this Notebook, and get a feel for the possibilities of data we could generate.\n",
    "\n",
    "\n",
    "$$y_{i} = a + bx_{i} + cx_{i}^{2} + \\epsilon_{i}$$\n",
    "\n",
    "where:  \n",
    "$i \\in n$ datapoints\n",
    "$\\epsilon \\sim \\mathcal{N}(0,latent\\_sigma\\_y)$\n",
    "\n",
    "\n",
    "**NOTE on outliers:** \n",
    "\n",
    "+ We can use value `p` to set the (approximate) proportion of 'outliers' under a bernoulli distribution.\n",
    "+ These outliers have a 10x larger `latent_sigma_y`\n",
    "+ These outliers are labelled in the returned datasets and may be useful for other modelling, see another example Notebook `GLM-robust-with-outlier-detection.ipynb`"
   ]
  },
  {
   "cell_type": "code",
   "execution_count": 4,
   "metadata": {},
   "outputs": [
    {
     "data": {
      "image/png": "[encoded data removed]",
      "text/plain": [
       "<Figure size 576x576 with 1 Axes>"
      ]
     },
     "metadata": {},
     "output_type": "display_data"
    }
   ],
   "source": [
    "interactive(interact_dataset, n=[5,50,5], p=[0,.5,.05], a=[-50,50]\n",
    "            ,b=[-10,10], c=[-3,3], latent_sigma_y=[0,1000,50])"
   ]
  },
  {
   "cell_type": "markdown",
   "metadata": {},
   "source": [
    "**Observe:**\n",
    "\n",
    "+ I've shown the `latent_error` in errorbars, but this is for interest only, since this shows the _inherent noise_ in whatever 'physical process' we imagine created the data.\n",
    "+ There is no _measurement error_.\n",
    "+ Datapoints created as outliers are shown in **red**, again for interest only."
   ]
  },
  {
   "cell_type": "markdown",
   "metadata": {},
   "source": [
    "## Create Datasets for Modelling"
   ]
  },
  {
   "cell_type": "markdown",
   "metadata": {},
   "source": [
    "We can use the above interactive plot to get a feel for the effect of the params. Now we'll create 2 fixed datasets to use for the remainder of the Notebook. \n",
    "\n",
    "1. For a start, we'll create a linear model with small noise. Keep it simple.\n",
    "2. Secondly, a quadratic model with small noise"
   ]
  },
  {
   "cell_type": "code",
   "execution_count": null,
   "metadata": {},
   "outputs": [],
   "source": [
    "n = 12\n",
    "df_lin, dfp_lin = generate_data(n=n, p=0, a=-30, b=5, c=0, latent_sigma_y=40)\n",
    "df_quad, dfp_quad = generate_data(n=n, p=0, a=-200, b=2, c=3, latent_sigma_y=500)"
   ]
  },
  {
   "cell_type": "markdown",
   "metadata": {},
   "source": [
    "##### Scatterplot against model line"
   ]
  },
  {
   "cell_type": "code",
   "execution_count": null,
   "metadata": {},
   "outputs": [
    {
     "data": {
      "image/png": "[encoded data removed]",
      "text/plain": [
       "<Figure size 864x432 with 2 Axes>"
      ]
     },
     "metadata": {},
     "output_type": "display_data"
    }
   ],
   "source": [
    "plot_datasets(df_lin, df_quad, dfp_lin, dfp_quad)"
   ]
  },
  {
   "cell_type": "markdown",
   "metadata": {},
   "source": [
    "**Observe:**\n",
    "\n",
    "+ We now have two datasets `df_lin` and `df_quad` created by a linear model and quadratic model respectively.\n",
    "+ You can see this raw data, the ideal model fit and the effect of the latent noise in the scatterplots above\n",
    "+ In the folowing plots in this Notebook, the linear-generated data will be shown in Blue and the quadratic in Green.\n"
   ]
  },
  {
   "cell_type": "markdown",
   "metadata": {},
   "source": [
    "### Standardize"
   ]
  },
  {
   "cell_type": "code",
   "execution_count": null,
   "metadata": {},
   "outputs": [],
   "source": [
    "dfs_lin = df_lin.copy()\n",
    "dfs_lin['x'] = (df_lin['x'] - df_lin['x'].mean()) / df_lin['x'].std()\n",
    "\n",
    "dfs_quad = df_quad.copy()\n",
    "dfs_quad['x'] = (df_quad['x'] - df_quad['x'].mean()) / df_quad['x'].std()"
   ]
  },
  {
   "cell_type": "markdown",
   "metadata": {},
   "source": [
    "##### Create ranges for later ylim xim"
   ]
  },
  {
   "cell_type": "code",
   "execution_count": null,
   "metadata": {},
   "outputs": [],
   "source": [
    "dfs_lin_xlims = (dfs_lin['x'].min() - np.ptp(dfs_lin['x'])/10\n",
    "                 ,dfs_lin['x'].max() + np.ptp(dfs_lin['x'])/10)\n",
    "\n",
    "dfs_lin_ylims = (dfs_lin['y'].min() - np.ptp(dfs_lin['y'])/10\n",
    "                 ,dfs_lin['y'].max() + np.ptp(dfs_lin['y'])/10)\n",
    "\n",
    "dfs_quad_ylims = (dfs_quad['y'].min() - np.ptp(dfs_quad['y'])/10\n",
    "                 ,dfs_quad['y'].max() + np.ptp(dfs_quad['y'])/10)"
   ]
  },
  {
   "cell_type": "markdown",
   "metadata": {},
   "source": [
    "---\n",
    "\n",
    "---"
   ]
  },
  {
   "cell_type": "markdown",
   "metadata": {},
   "source": [
    "# Demonstrate Simple Linear Model"
   ]
  },
  {
   "cell_type": "markdown",
   "metadata": {},
   "source": [
    "This *linear model* is really simple and conventional, an OLS with L2 constraints (Ridge Regression):\n",
    "\n",
    "$$y = a + bx + \\epsilon$$\n"
   ]
  },
  {
   "cell_type": "markdown",
   "metadata": {},
   "source": [
    "## Define model using ordinary pymc3 method"
   ]
  },
  {
   "cell_type": "code",
   "execution_count": null,
   "metadata": {},
   "outputs": [],
   "source": [
    "with pm.Model() as mdl_ols:\n",
    "        \n",
    "    ## define Normal priors to give Ridge regression\n",
    "    b0 = pm.Normal('b0', mu=0, sd=100)\n",
    "    b1 = pm.Normal('b1', mu=0, sd=100)\n",
    " \n",
    "    ## define Linear model\n",
    "    yest = b0 + b1 * df_lin['x']\n",
    "\n",
    "    ## define Normal likelihood with HalfCauchy noise (fat tails, equiv to HalfT 1DoF)\n",
    "    sigma_y = pm.HalfCauchy('sigma_y', beta=10)\n",
    "    likelihood = pm.Normal('likelihood', mu=yest, sd=sigma_y, observed=df_lin['y'])\n",
    "\n",
    "    ## sample using NUTS (starting from MAP found using powell)\n",
    "    start_MAP = pm.find_MAP(fmin=fmin_powell, disp=True)\n",
    "    traces_ols = pm.sample(2000, start=start_MAP, step=pm.NUTS(), progressbar=True)"
   ]
  },
  {
   "cell_type": "markdown",
   "metadata": {},
   "source": [
    "##### View Traces after burn-in"
   ]
  },
  {
   "cell_type": "code",
   "execution_count": null,
   "metadata": {},
   "outputs": [],
   "source": [
    "plot_traces(traces_ols, retain=1000)"
   ]
  },
  {
   "cell_type": "markdown",
   "metadata": {},
   "source": [
    "**Observe:**\n",
    "\n",
    "+ This simple OLS manages to make fairly good guesses on the model parameters - the data has been generated fairly simply after all - but it does appear to have been fooled slightly by the inherent noise.\n"
   ]
  },
  {
   "cell_type": "markdown",
   "metadata": {},
   "source": [
    "## Define model using pymc3 GLM method"
   ]
  },
  {
   "cell_type": "markdown",
   "metadata": {},
   "source": [
    "PyMC3 has a quite recently developed method - `glm` - for defining models using a `patsy`-style formula syntax. This seems really useful, especially for defining simple regression models in fewer lines of code. \n",
    "\n",
    "I couldn't find a direct comparison in the the examples, so before I launch into using `glm` for the rest of the Notebook, here's the same OLS model as above, defined using `glm`."
   ]
  },
  {
   "cell_type": "code",
   "execution_count": null,
   "metadata": {},
   "outputs": [],
   "source": [
    "with pm.Model() as mdl_ols_glm:\n",
    "\n",
    "    # setup model with Normal likelihood (which uses HalfCauchy for error prior)\n",
    "    pm.glm.glm('y ~ 1 + x', df_lin, family=pm.glm.families.Normal())\n",
    "    \n",
    "    ## sample using NUTS (starting from MAP found using powell)\n",
    "    start_MAP = pm.find_MAP(fmin=fmin_powell, disp=True)\n",
    "    traces_ols_glm = pm.sample(2000, start=start_MAP, step=pm.NUTS(), progressbar=True)"
   ]
  },
  {
   "cell_type": "markdown",
   "metadata": {},
   "source": [
    "##### View Traces after burn-in"
   ]
  },
  {
   "cell_type": "code",
   "execution_count": null,
   "metadata": {},
   "outputs": [],
   "source": [
    "plot_traces(traces_ols_glm, retain=1000)"
   ]
  },
  {
   "cell_type": "markdown",
   "metadata": {},
   "source": [
    "**Observe:**\n",
    "\n",
    "+ The output parameters are of course named differently to the custom naming before. Now we have:\n",
    "\n",
    "    `b0 == Intercept`  \n",
    "    `b1 == x`  \n",
    "    `sigma_y_log == sd_log`  \n",
    "    `sigma_y == sd`  \n",
    "    \n",
    "    \n",
    "+ However, naming aside, this `glm`-defined model appears to behave in a very similar way, and finds the same parameter values as the conventionally-defined model - any differences are due to the random nature of the sampling.\n",
    "+ We can quite happily use the `glm` syntax for further models below, since it allows us to create a small model factory very easily."
   ]
  },
  {
   "cell_type": "markdown",
   "metadata": {},
   "source": [
    "---\n",
    "\n",
    "---"
   ]
  },
  {
   "cell_type": "markdown",
   "metadata": {},
   "source": [
    "# Compare Higher-Order Linear Models"
   ]
  },
  {
   "cell_type": "markdown",
   "metadata": {},
   "source": [
    "Back to the real purpose of this Notebook: demonstrate model selection.\n",
    "\n",
    "First, let's create and run a set of polynomial models on each of our toy datasets. By default this is for models of order 1 to 5."
   ]
  },
  {
   "cell_type": "markdown",
   "metadata": {},
   "source": [
    "## Create and run polynomial models"
   ]
  },
  {
   "cell_type": "code",
   "execution_count": null,
   "metadata": {},
   "outputs": [],
   "source": [
    "models_lin, traces_lin = run_models(dfs_lin, 5)"
   ]
  },
  {
   "cell_type": "code",
   "execution_count": null,
   "metadata": {},
   "outputs": [],
   "source": [
    "models_quad, traces_quad = run_models(dfs_quad, 5)"
   ]
  },
  {
   "cell_type": "markdown",
   "metadata": {},
   "source": [
    "## Really bad model selection: compare likelihoods"
   ]
  },
  {
   "cell_type": "markdown",
   "metadata": {},
   "source": [
    "##### Evaluate log likelihoods straight from model.logp"
   ]
  },
  {
   "cell_type": "code",
   "execution_count": null,
   "metadata": {},
   "outputs": [],
   "source": [
    "dfll = pd.DataFrame(index=['k1','k2','k3','k4','k5'], columns=['lin','quad'])\n",
    "dfll.index.name = 'model'\n",
    "\n",
    "for nm in dfll.index:\n",
    "    dfll.loc[nm,'lin'] =-models_lin[nm].logp(pm.df_summary(traces_lin[nm])['mean'].to_dict())\n",
    "    dfll.loc[nm,'quad'] =-models_quad[nm].logp(pm.df_summary(traces_quad[nm])['mean'].to_dict())\n",
    "\n",
    "dfll = pd.melt(dfll.reset_index(), id_vars=['model'], var_name='poly'\n",
    "               ,value_name='log_likelihood')"
   ]
  },
  {
   "cell_type": "markdown",
   "metadata": {},
   "source": [
    "##### Plot log-likelihoods"
   ]
  },
  {
   "cell_type": "code",
   "execution_count": null,
   "metadata": {},
   "outputs": [],
   "source": [
    "g = sns.factorplot(x='model', y='log_likelihood', col='poly', hue='poly'\n",
    "                   ,data=dfll, kind='bar', size=6)"
   ]
  },
  {
   "cell_type": "markdown",
   "metadata": {},
   "source": [
    "**Observe:**\n",
    "\n",
    "+ For both datsets, the linear-generated (lhs) and the quadratic-generated (rhs)"
   ]
  },
  {
   "cell_type": "markdown",
   "metadata": {},
   "source": [
    "## View posterior predictive fit"
   ]
  },
  {
   "cell_type": "code",
   "execution_count": null,
   "metadata": {},
   "outputs": [],
   "source": [
    "interactive(plot_posterior_cr, models=fixed(models_lin), traces=fixed(traces_lin)\n",
    "            ,rawdata=fixed(dfs_lin), xlims=fixed(dfs_lin_xlims), datamodelnm=fixed('linear')\n",
    "            ,modelnm = ['k1','k2','k3','k4','k5'])"
   ]
  },
  {
   "cell_type": "markdown",
   "metadata": {},
   "source": [
    "---"
   ]
  },
  {
   "cell_type": "markdown",
   "metadata": {
    "collapsed": true
   },
   "source": [
    "# Compare Deviance Information Criterion (DIC)"
   ]
  },
  {
   "cell_type": "markdown",
   "metadata": {
    "collapsed": true
   },
   "source": [
    "##### Manual way, probably error-prone"
   ]
  },
  {
   "cell_type": "code",
   "execution_count": null,
   "metadata": {},
   "outputs": [],
   "source": [
    "dftrc_lin = pm.trace_to_dataframe(traces_lin['k1'])\n",
    "trc_lin_logp = dftrc_lin.apply(lambda x: models_lin['k1'].logp(x.to_dict()), axis=1)\n",
    "mean_deviance = -2 * trc_lin_logp.mean(0)\n",
    "mean_deviance"
   ]
  },
  {
   "cell_type": "code",
   "execution_count": null,
   "metadata": {},
   "outputs": [],
   "source": [
    "deviance_at_mean = -2 * models_lin['k1'].logp(dftrc_lin.mean(0).to_dict())\n",
    "deviance_at_mean"
   ]
  },
  {
   "cell_type": "code",
   "execution_count": null,
   "metadata": {},
   "outputs": [],
   "source": [
    "dic_k1 = 2 * mean_deviance - deviance_at_mean\n",
    "dic_k1"
   ]
  },
  {
   "cell_type": "markdown",
   "metadata": {},
   "source": [
    "##### Or we could use the newly created function in `stats.py`, much better!"
   ]
  },
  {
   "cell_type": "code",
   "execution_count": null,
   "metadata": {},
   "outputs": [],
   "source": [
    "pm.stats.dic(model=models_lin['k1'], trace=traces_lin['k1'])"
   ]
  },
  {
   "cell_type": "markdown",
   "metadata": {},
   "source": [
    "##### Lets loop through all the models and calculate the DIC"
   ]
  },
  {
   "cell_type": "code",
   "execution_count": null,
   "metadata": {},
   "outputs": [],
   "source": [
    "dfdic = pd.DataFrame(index=['k1','k2','k3','k4','k5'], columns=['lin','quad'])\n",
    "dfdic.index.name = 'model'\n",
    "\n",
    "for nm in dfdic.index:\n",
    "    dfdic.loc[nm, 'lin'] = pm.stats.dic(traces_lin[nm],models_lin[nm])\n",
    "    dfdic.loc[nm, 'quad'] = pm.stats.dic(traces_quad[nm],models_quad[nm])\n",
    "\n",
    "dfdic = pd.melt(dfdic.reset_index(), id_vars=['model'], var_name='poly', value_name='dic')\n",
    "\n",
    "g = sns.factorplot(x='model', y='dic', col='poly', hue='poly', data=dfdic, kind='bar', size=6)"
   ]
  },
  {
   "cell_type": "markdown",
   "metadata": {},
   "source": [
    "**Observe**\n",
    "\n",
    "+ Linear-generated data (lhs):\n",
    "    + The DIC increases monotonically with model complexity, this is great too see!\n",
    "    + The more complicated the model, the more it would appear we are overfitting.\n",
    "\n",
    "\n",
    "+ Quadratic-generated data (rhs):\n",
    "    + The DIC dips slightly for the correct model k2\n",
    "    + The difference is slight though!\n",
    "\n",
    "\n",
    "+ We should prefer the model(s) with lower DIC, which (happily) directly opposes the increasing likelihood we saw earlier. "
   ]
  },
  {
   "cell_type": "markdown",
   "metadata": {},
   "source": [
    "---\n",
    "\n",
    "---"
   ]
  },
  {
   "cell_type": "markdown",
   "metadata": {},
   "source": [
    "# Watanabe - Akaike Information Criterion (WAIC)\n",
    "\n",
    "aka Widely Applicable Information Criterion"
   ]
  },
  {
   "cell_type": "markdown",
   "metadata": {},
   "source": [
    "##### This time go straight for the implementation in pymc3"
   ]
  },
  {
   "cell_type": "code",
   "execution_count": null,
   "metadata": {},
   "outputs": [],
   "source": [
    "pm.stats.waic(model=models_lin['k1'], trace=traces_lin['k1'])"
   ]
  },
  {
   "cell_type": "code",
   "execution_count": null,
   "metadata": {},
   "outputs": [],
   "source": [
    "dfwaic = pd.DataFrame(index=['k1','k2','k3','k4','k5'], columns=['lin','quad'])\n",
    "dfwaic.index.name = 'model'\n",
    "\n",
    "for nm in dfwaic.index:\n",
    "    dfwaic.loc[nm, 'lin'] = pm.stats.waic(traces_lin[nm],models_lin[nm])\n",
    "    dfwaic.loc[nm, 'quad'] = pm.stats.waic(traces_quad[nm],models_quad[nm])\n",
    "\n",
    "dfwaic = pd.melt(dfwaic.reset_index(), id_vars=['model'], var_name='poly', value_name='waic')\n",
    "\n",
    "g = sns.factorplot(x='model', y='waic', col='poly', hue='poly', data=dfwaic, kind='bar', size=6)"
   ]
  },
  {
   "cell_type": "markdown",
   "metadata": {},
   "source": [
    "**Observe**\n",
    "\n",
    "+ We should prefer the model(s) with lower WAIC\n",
    "\n",
    "+ Linear-generated data (lhs):\n",
    "    + The WAIC seems quite flat across models\n",
    "\n",
    "+ Quadratic-generated data (rhs):\n",
    "    + The WAIC is certainly wrong for k1, but otherwise also quite flat. Dips in the right place at k2\n"
   ]
  },
  {
   "cell_type": "markdown",
   "metadata": {},
   "source": [
    "---\n",
    "\n",
    "---"
   ]
  },
  {
   "cell_type": "markdown",
   "metadata": {},
   "source": [
    "# TODO"
   ]
  },
  {
   "cell_type": "markdown",
   "metadata": {},
   "source": [
    "## K-Fold Cross Validation and Leave-One-Out (LOO)"
   ]
  },
  {
   "cell_type": "markdown",
   "metadata": {},
   "source": [
    "##### Left for future development - should be easy enough"
   ]
  },
  {
   "cell_type": "markdown",
   "metadata": {},
   "source": [
    "http://www.stat.columbia.edu/~gelman/research/unpublished/waic_stan.pdf"
   ]
  },
  {
   "cell_type": "markdown",
   "metadata": {},
   "source": [
    "## Bayes Factor"
   ]
  },
  {
   "cell_type": "markdown",
   "metadata": {},
   "source": [
    "##### Will be left for future development - scipy only useful for 2D and 3D. Beyond that, dragons."
   ]
  },
  {
   "cell_type": "markdown",
   "metadata": {},
   "source": [
    "Following text lifted directly from [JakeVDP blogpost](https://jakevdp.github.io/blog/2015/08/07/frequentism-and-bayesianism-5-model-selection/)\n",
    "\n",
    "The Bayesian approach proceeds very differently. Recall that the Bayesian model involves computing the odds ratio between two models:\n",
    "\n",
    "$$O_{21}=\\frac{P(M_{2} \\;|\\; D)}{P(M_{1} \\;|\\; D)}=\\frac{P(D \\;|\\; M_{2})}{P(D \\;|\\; M_{1})}\\frac{P(M_{2})}{P(M_{1})}$$\n",
    "\n",
    "Here the ratio $\\frac{P(M2)}{P(M1)}$ is the prior odds ratio, and is often assumed to be equal to 1 if no compelling prior evidence favors one model over another. The ratio $\\frac{P(D \\;|\\; M2)}{P(D \\;|\\; M1)}$ is the **Bayes factor**, and is the key to Bayesian model selection.\n",
    "\n",
    "\n",
    "The Bayes factor can be computed by evaluating the integral over the parameter likelihood:\n",
    "\n",
    "$$P(D \\;|\\; M)=\\int_{\\Omega}P(D \\;|\\; \\theta,M) \\; P(\\theta \\;|\\; M) \\;d\\theta$$\n",
    "\n",
    "This integral is over the entire parameter space of the model, and thus can be extremely computationally intensive, especially as the dimension of the model grows beyond a few. "
   ]
  },
  {
   "cell_type": "markdown",
   "metadata": {},
   "source": [
    "---"
   ]
  },
  {
   "cell_type": "markdown",
   "metadata": {},
   "source": [
    "Example originally contributed by Jonathan Sedar 2016-01-04 [github.com/jonsedar](https://github.com/jonsedar)"
   ]
  }
 ],
 "metadata": {
  "kernelspec": {
   "display_name": "Python 3",
   "language": "python",
   "name": "python3"
  },
  "language_info": {
   "codemirror_mode": {
    "name": "ipython",
    "version": 3
   },
   "file_extension": ".py",
   "mimetype": "text/x-python",
   "name": "python",
   "nbconvert_exporter": "python",
   "pygments_lexer": "ipython3",
   "version": "3.6.7"
  }
 },
 "nbformat": 4,
 "nbformat_minor": 1
}
